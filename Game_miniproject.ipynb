{
  "nbformat": 4,
  "nbformat_minor": 0,
  "metadata": {
    "colab": {
      "name": "Game_miniproject.ipynb",
      "provenance": [],
      "collapsed_sections": []
    },
    "kernelspec": {
      "name": "python3",
      "display_name": "Python 3"
    },
    "language_info": {
      "name": "python"
    }
  },
  "cells": [
    {
      "cell_type": "code",
      "execution_count": null,
      "metadata": {
        "id": "ZXWALa_t-tJV"
      },
      "outputs": [],
      "source": [
        "#Step-1 - taking the input from Human  "
      ]
    },
    {
      "cell_type": "code",
      "source": [
        "def takeHumanInput():\n",
        "  ch = input(\"enter the character out of p/s/r \")\n",
        "  ch = ch.lower()\n",
        "  if(ch == 'p' or ch == 's' or ch == 'r'):\n",
        "    return ch\n",
        "  else :\n",
        "   return takeHumanInput()"
      ],
      "metadata": {
        "id": "gl2eZfRD_Etv"
      },
      "execution_count": null,
      "outputs": []
    },
    {
      "cell_type": "code",
      "source": [
        "takeHumanInput()"
      ],
      "metadata": {
        "colab": {
          "base_uri": "https://localhost:8080/",
          "height": 104
        },
        "id": "le4fzk55_E6Z",
        "outputId": "a09dd177-6423-40b3-b2cb-b623abb77f2b"
      },
      "execution_count": null,
      "outputs": [
        {
          "name": "stdout",
          "output_type": "stream",
          "text": [
            "enter the character out of p/s/r d\n",
            "enter the character out of p/s/r x\n",
            "enter the character out of p/s/r v\n",
            "enter the character out of p/s/r r\n"
          ]
        },
        {
          "output_type": "execute_result",
          "data": {
            "text/plain": [
              "'r'"
            ],
            "application/vnd.google.colaboratory.intrinsic+json": {
              "type": "string"
            }
          },
          "metadata": {},
          "execution_count": 4
        }
      ]
    },
    {
      "cell_type": "code",
      "source": [
        "#Step-2 - taking the input from Computer  "
      ],
      "metadata": {
        "id": "0w78ZZt4_FAe"
      },
      "execution_count": null,
      "outputs": []
    },
    {
      "cell_type": "code",
      "source": [
        "import random \n",
        "def generateComputerValue():\n",
        "  ch = ''\n",
        "  n = random.randint(0,3)\n",
        "  if(n==0):\n",
        "    ch = 'p'\n",
        "  elif(n==1):\n",
        "    ch = 's'\n",
        "  else:\n",
        "    ch = 'r'\n",
        "  return ch \n"
      ],
      "metadata": {
        "id": "9ux0b7bo_FDb"
      },
      "execution_count": null,
      "outputs": []
    },
    {
      "cell_type": "code",
      "source": [
        "generateComputerValue()"
      ],
      "metadata": {
        "colab": {
          "base_uri": "https://localhost:8080/",
          "height": 35
        },
        "id": "UgTexV8C_FGM",
        "outputId": "f1ad8de4-fba6-4cea-f164-e2ce618765ec"
      },
      "execution_count": null,
      "outputs": [
        {
          "output_type": "execute_result",
          "data": {
            "text/plain": [
              "'s'"
            ],
            "application/vnd.google.colaboratory.intrinsic+json": {
              "type": "string"
            }
          },
          "metadata": {},
          "execution_count": 15
        }
      ]
    },
    {
      "cell_type": "code",
      "source": [
        "#Step-3 - Who is the winner \n"
      ],
      "metadata": {
        "id": "qGq0Y-bL_FJH"
      },
      "execution_count": null,
      "outputs": []
    },
    {
      "cell_type": "code",
      "source": [
        "def whoWillWin(humanInput,computerInput):\n",
        "  winner = ''\n",
        "  if(humanInput =='p' and computerInput=='s'):\n",
        "    winner ='computer'\n",
        "  elif(humanInput =='p' and computerInput=='r'):\n",
        "    winner ='human'\n",
        "  elif(humanInput =='s' and computerInput=='r'):\n",
        "    winner ='computer'\n",
        "  elif(humanInput =='s' and computerInput=='p'):\n",
        "    winner ='human'\n",
        "  elif(humanInput =='r' and computerInput=='s'):\n",
        "    winner ='human'\n",
        "  elif(humanInput =='r' and computerInput=='p'):\n",
        "    winner ='computer'\n",
        "  elif(humanInput =='p' and computerInput=='p'):\n",
        "    winner ='Tie'\n",
        "  elif(humanInput =='r' and computerInput=='r'):\n",
        "    winner ='Tie'\n",
        "  elif(humanInput =='s' and computerInput=='s'):\n",
        "    winner ='Tie'\n",
        "  else: \n",
        "    winner = 'Tie'\n",
        "  \n",
        "  return winner "
      ],
      "metadata": {
        "id": "kt_pgQFK_FL9"
      },
      "execution_count": null,
      "outputs": []
    },
    {
      "cell_type": "code",
      "source": [
        "whoWillWin('p','p')"
      ],
      "metadata": {
        "colab": {
          "base_uri": "https://localhost:8080/",
          "height": 35
        },
        "id": "xKCLimNZ_FPi",
        "outputId": "1fbd45c7-b294-4f18-952b-20cd93e9e947"
      },
      "execution_count": null,
      "outputs": [
        {
          "output_type": "execute_result",
          "data": {
            "text/plain": [
              "'Tie'"
            ],
            "application/vnd.google.colaboratory.intrinsic+json": {
              "type": "string"
            }
          },
          "metadata": {},
          "execution_count": 22
        }
      ]
    },
    {
      "cell_type": "code",
      "source": [
        "\n",
        "def scoreUpdate(user):\n",
        "\n",
        "  if user == \"human\":\n",
        "    score[\"human\"]=score.get(\"human\")+1\n",
        "  elif user == \"computer\":\n",
        "    score[\"computer\"]=score.get(\"computer\")+1\n",
        "  else:\n",
        "    user == \"Tie\" \n",
        "    score[\"Tie\"]=score.get(\"Tie\")+1"
      ],
      "metadata": {
        "id": "WYZxEbonK9u1"
      },
      "execution_count": null,
      "outputs": []
    },
    {
      "cell_type": "code",
      "source": [
        "scoreUpdate(\"human\")"
      ],
      "metadata": {
        "id": "Xg2JY0LVXJCT"
      },
      "execution_count": null,
      "outputs": []
    },
    {
      "cell_type": "code",
      "source": [
        "score"
      ],
      "metadata": {
        "colab": {
          "base_uri": "https://localhost:8080/"
        },
        "id": "ylRj7STqX-RI",
        "outputId": "b91c9a70-b12e-4816-9217-f466436e1ea1"
      },
      "execution_count": null,
      "outputs": [
        {
          "output_type": "execute_result",
          "data": {
            "text/plain": [
              "{'Tie': 2, 'computer': 1, 'human': 2}"
            ]
          },
          "metadata": {},
          "execution_count": 36
        }
      ]
    },
    {
      "cell_type": "code",
      "source": [
        "score = {\"human\":0 ,\"computer\":0,\"Tie\":0}\n",
        "n = 'y'\n",
        "while n != 'n' :\n",
        "  humanInput = takeHumanInput()\n",
        "  print(\"Human Input is -\", humanInput)\n",
        "  computerInput = generateComputerValue()\n",
        "  print(\"Computer Input is -\", computerInput)\n",
        "  winner = whoWillWin(humanInput,computerInput)\n",
        "  print(\"Winner of this game is -\", winner)\n",
        "  scoreUpdate(winner)\n",
        "  print(\"Scoreboard of this game til now -\",score)\n",
        "  n = input(\"want to continue game press y/n\")"
      ],
      "metadata": {
        "colab": {
          "base_uri": "https://localhost:8080/"
        },
        "id": "Ch3mPa1BYDIl",
        "outputId": "85d02dec-8346-45c6-f3f6-54ab1444f6fc"
      },
      "execution_count": null,
      "outputs": [
        {
          "name": "stdout",
          "output_type": "stream",
          "text": [
            "enter the character out of p/s/r p\n",
            "Human Input is - p\n",
            "Computer Input is - r\n",
            "Winner of this game is - human\n",
            "Scoreboard of this game til now - {'human': 1, 'computer': 0, 'Tie': 0}\n",
            "want to continue game press y/ny\n",
            "enter the character out of p/s/r r\n",
            "Human Input is - r\n",
            "Computer Input is - p\n",
            "Winner of this game is - computer\n",
            "Scoreboard of this game til now - {'human': 1, 'computer': 1, 'Tie': 0}\n",
            "want to continue game press y/nn\n"
          ]
        }
      ]
    },
    {
      "cell_type": "code",
      "source": [
        "score"
      ],
      "metadata": {
        "colab": {
          "base_uri": "https://localhost:8080/"
        },
        "id": "QsYrK641arhZ",
        "outputId": "69409227-86d1-493d-8535-05a626f2a78c"
      },
      "execution_count": null,
      "outputs": [
        {
          "output_type": "execute_result",
          "data": {
            "text/plain": [
              "{'Tie': 2, 'computer': 1, 'human': 2}"
            ]
          },
          "metadata": {},
          "execution_count": 38
        }
      ]
    },
    {
      "cell_type": "code",
      "source": [
        ""
      ],
      "metadata": {
        "id": "KcdXD8wubFl9"
      },
      "execution_count": null,
      "outputs": []
    }
  ]
}