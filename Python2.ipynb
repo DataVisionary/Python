{
  "cells": [
    {
      "cell_type": "code",
      "execution_count": null,
      "metadata": {
        "id": "3SYfmRfKgeHD"
      },
      "outputs": [],
      "source": [
        "a=10\n"
      ]
    },
    {
      "cell_type": "code",
      "execution_count": null,
      "metadata": {
        "colab": {
          "base_uri": "https://localhost:8080/"
        },
        "id": "sRX_vXLtkOiG",
        "outputId": "536fbc78-baa3-46f7-babc-bb210e0b9e4a"
      },
      "outputs": [
        {
          "data": {
            "text/plain": [
              "10"
            ]
          },
          "execution_count": 7,
          "metadata": {},
          "output_type": "execute_result"
        }
      ],
      "source": [
        "a\n"
      ]
    },
    {
      "cell_type": "code",
      "execution_count": null,
      "metadata": {
        "colab": {
          "base_uri": "https://localhost:8080/"
        },
        "id": "zB_w1Ff-gzQo",
        "outputId": "4792b070-3a55-49d5-984c-c4c6fb24a731"
      },
      "outputs": [
        {
          "data": {
            "text/plain": [
              "int"
            ]
          },
          "execution_count": 13,
          "metadata": {},
          "output_type": "execute_result"
        }
      ],
      "source": [
        "letsupgrade = \"i will be placed in product based company with very high package\"\n",
        "\n",
        "type(a)\n"
      ]
    },
    {
      "cell_type": "code",
      "execution_count": null,
      "metadata": {
        "colab": {
          "base_uri": "https://localhost:8080/"
        },
        "id": "vqzg00mqkSwL",
        "outputId": "de2d862f-fa56-4ea8-b9a5-6726f5b85f4d"
      },
      "outputs": [
        {
          "data": {
            "text/plain": [
              "str"
            ]
          },
          "execution_count": 11,
          "metadata": {},
          "output_type": "execute_result"
        }
      ],
      "source": [
        "type(letsupgrade)"
      ]
    },
    {
      "cell_type": "code",
      "execution_count": null,
      "metadata": {
        "colab": {
          "base_uri": "https://localhost:8080/",
          "height": 35
        },
        "id": "4mZ14WtRkX9l",
        "outputId": "3a1870a4-ac85-4b49-faa2-20f5743a2010"
      },
      "outputs": [
        {
          "data": {
            "application/vnd.google.colaboratory.intrinsic+json": {
              "type": "string"
            },
            "text/plain": [
              "'I will be placed in product based company with very high package'"
            ]
          },
          "execution_count": 14,
          "metadata": {},
          "output_type": "execute_result"
        }
      ],
      "source": [
        "letsupgrade.capitalize()"
      ]
    },
    {
      "cell_type": "code",
      "execution_count": null,
      "metadata": {
        "id": "cmjEMM0blrZY"
      },
      "outputs": [],
      "source": [
        "\n"
      ]
    },
    {
      "cell_type": "code",
      "execution_count": null,
      "metadata": {
        "colab": {
          "base_uri": "https://localhost:8080/"
        },
        "id": "RBeZMP_Dpc6V",
        "outputId": "ba013798-c2d0-4456-ab42-d7be992cbe81"
      },
      "outputs": [
        {
          "data": {
            "text/plain": [
              "{'age': 20, 'email': 'vaibhav@gmail.com', 'name': 'Vaibhav'}"
            ]
          },
          "execution_count": 16,
          "metadata": {},
          "output_type": "execute_result"
        }
      ],
      "source": [
        "dict"
      ]
    },
    {
      "cell_type": "code",
      "execution_count": null,
      "metadata": {
        "colab": {
          "base_uri": "https://localhost:8080/"
        },
        "id": "V92RAAYjpd84",
        "outputId": "d3610e69-a450-4290-dc00-9edf0721d8e4"
      },
      "outputs": [
        {
          "data": {
            "text/plain": [
              "20"
            ]
          },
          "execution_count": 17,
          "metadata": {},
          "output_type": "execute_result"
        }
      ],
      "source": [
        "dict.get(\"age\")"
      ]
    },
    {
      "cell_type": "markdown",
      "metadata": {
        "id": "_U8qNteQzDcP"
      },
      "source": [
        "# Operators "
      ]
    },
    {
      "cell_type": "code",
      "execution_count": null,
      "metadata": {
        "colab": {
          "base_uri": "https://localhost:8080/"
        },
        "id": "BsLD8CMQpks_",
        "outputId": "6ec997f7-c514-467d-97fe-356a26a6d96d"
      },
      "outputs": [
        {
          "data": {
            "text/plain": [
              "True"
            ]
          },
          "execution_count": 3,
          "metadata": {},
          "output_type": "execute_result"
        }
      ],
      "source": [
        "a = 10 \n",
        "b = 10 \n",
        "a==b"
      ]
    },
    {
      "cell_type": "code",
      "execution_count": null,
      "metadata": {
        "colab": {
          "base_uri": "https://localhost:8080/"
        },
        "id": "PLZ082Fc0B9r",
        "outputId": "627566a2-2714-4b6b-f97b-e66f1b23bd9c"
      },
      "outputs": [
        {
          "data": {
            "text/plain": [
              "True"
            ]
          },
          "execution_count": 5,
          "metadata": {},
          "output_type": "execute_result"
        }
      ],
      "source": [
        "a != b "
      ]
    },
    {
      "cell_type": "code",
      "execution_count": null,
      "metadata": {
        "colab": {
          "base_uri": "https://localhost:8080/"
        },
        "id": "geOFaXWJ57Cy",
        "outputId": "94ba301c-68bc-445c-f546-8f3f9a38ef7d"
      },
      "outputs": [
        {
          "data": {
            "text/plain": [
              "False"
            ]
          },
          "execution_count": 10,
          "metadata": {},
          "output_type": "execute_result"
        }
      ],
      "source": [
        "90>=99"
      ]
    },
    {
      "cell_type": "code",
      "execution_count": null,
      "metadata": {
        "colab": {
          "base_uri": "https://localhost:8080/"
        },
        "id": "xMr_s9yi6cnt",
        "outputId": "e2d98086-b62e-4371-ba75-be72ee8ed2b0"
      },
      "outputs": [
        {
          "data": {
            "text/plain": [
              "False"
            ]
          },
          "execution_count": 20,
          "metadata": {},
          "output_type": "execute_result"
        }
      ],
      "source": [
        "True and True\n",
        "True and False\n",
        "True or False \n",
        "False or False "
      ]
    },
    {
      "cell_type": "code",
      "execution_count": null,
      "metadata": {
        "colab": {
          "base_uri": "https://localhost:8080/"
        },
        "id": "LTw4geh3AkCS",
        "outputId": "c258f203-1e20-47ba-e704-75ffc263ae43"
      },
      "outputs": [
        {
          "data": {
            "text/plain": [
              "True"
            ]
          },
          "execution_count": 22,
          "metadata": {},
          "output_type": "execute_result"
        }
      ],
      "source": [
        "not True \n",
        "not False \n",
        "\n"
      ]
    },
    {
      "cell_type": "code",
      "execution_count": null,
      "metadata": {
        "colab": {
          "base_uri": "https://localhost:8080/"
        },
        "id": "j_5HPZ3ABCBg",
        "outputId": "064d7add-2e6a-45f6-d249-65a9025d8082"
      },
      "outputs": [
        {
          "name": "stdout",
          "output_type": "stream",
          "text": [
            "I will teach the programing\n"
          ]
        }
      ],
      "source": [
        "students = 600\n",
        "if students == 600 :\n",
        "  print(\"I will teach the programing\")\n",
        "else :\n",
        " print(\"I cant teach the programing \")"
      ]
    },
    {
      "cell_type": "code",
      "execution_count": null,
      "metadata": {
        "colab": {
          "base_uri": "https://localhost:8080/"
        },
        "id": "UjgKoJ37JYTt",
        "outputId": "a384e4c4-df12-4eca-a615-f565c04e2f62"
      },
      "outputs": [
        {
          "name": "stdout",
          "output_type": "stream",
          "text": [
            "I will teach the programing\n"
          ]
        }
      ],
      "source": [
        "students = 500\n",
        "if students == 500 :\n",
        "  print(\"I will teach the programing\")\n",
        "elif students >500 :\n",
        "  print(\"I will play whole workshops\")\n",
        "else :\n",
        " print(\"I cant teach the programing \")"
      ]
    },
    {
      "cell_type": "code",
      "execution_count": null,
      "metadata": {
        "colab": {
          "base_uri": "https://localhost:8080/"
        },
        "id": "PnFp2sDQNa9S",
        "outputId": "b43a4475-2c2a-4d98-c29b-c80ed173d50c"
      },
      "outputs": [
        {
          "name": "stdout",
          "output_type": "stream",
          "text": [
            "Enter Altitude -999\n",
            "Turn around\n"
          ]
        }
      ],
      "source": [
        "altitude1 = 1000\n",
        "altitude2 = 4500\n",
        "altitude3 = 6500\n",
        "\n",
        "altitude = int(input (\"Enter Altitude -\"))\n",
        "\n",
        "if  altitude == 1000 :\n",
        "    print(\"Safe to land\")\n",
        "elif altitude > 1000 and altitude <5000:\n",
        "    print(\"Bring down to 1000\")\n",
        "else :\n",
        "  print(\"Turn around\")"
      ]
    },
    {
      "cell_type": "code",
      "execution_count": null,
      "metadata": {
        "colab": {
          "base_uri": "https://localhost:8080/"
        },
        "id": "H59S1dkOY9aT",
        "outputId": "63d8a86e-ef53-4ab1-d454-5695ca3cbf6a"
      },
      "outputs": [
        {
          "name": "stdout",
          "output_type": "stream",
          "text": [
            "DK - 1\n",
            "DK - 2\n",
            "DK - 3\n",
            "we can use else with for loop\n",
            "HITMAN - 1\n",
            "HITMAN - 2\n",
            "HITMAN - 3\n",
            "we can use else with for loop\n",
            "SURYA - 1\n",
            "SURYA - 2\n",
            "SURYA - 3\n",
            "we can use else with for loop\n",
            "done with for loop\n"
          ]
        }
      ],
      "source": [
        "players  = [\"dk\",\"hitman\",\"surya\"]\n",
        "ranks = [1,2,3]\n",
        "for x in players:\n",
        "  for y in ranks: \n",
        "    print(x.upper(),\"-\",y)\n",
        "  else:\n",
        "    print(\"we can use else with for loop\")\n",
        "else:\n",
        "  print(\"done with for loop\")\n"
      ]
    },
    {
      "cell_type": "code",
      "execution_count": null,
      "metadata": {
        "colab": {
          "base_uri": "https://localhost:8080/"
        },
        "id": "Y7JgGeyOHSsQ",
        "outputId": "5fd4fe53-0416-4b46-cbfc-b139f4e72e2d"
      },
      "outputs": [
        {
          "name": "stdout",
          "output_type": "stream",
          "text": [
            "1\n",
            "2\n",
            "3\n",
            "4\n",
            "5\n",
            "6\n",
            "7\n",
            "8\n",
            "9\n",
            "else will run in while loop too\n",
            "enter number21\n"
          ]
        }
      ],
      "source": [
        "x = 1 \n",
        "\n",
        "while x<10:\n",
        "  print(x)\n",
        "  x = x + 1\n",
        "else:\n",
        "  print(\"else will run in while loop too\")\n",
        "  b = input(\"enter number\")"
      ]
    },
    {
      "cell_type": "code",
      "execution_count": null,
      "metadata": {
        "colab": {
          "base_uri": "https://localhost:8080/",
          "height": 35
        },
        "id": "fkBRXElsNo3w",
        "outputId": "be42f505-9b7f-4a05-94d2-f8df56e967f7"
      },
      "outputs": [
        {
          "data": {
            "application/vnd.google.colaboratory.intrinsic+json": {
              "type": "string"
            },
            "text/plain": [
              "'21'"
            ]
          },
          "execution_count": 30,
          "metadata": {},
          "output_type": "execute_result"
        }
      ],
      "source": [
        "b"
      ]
    },
    {
      "cell_type": "code",
      "execution_count": null,
      "metadata": {
        "colab": {
          "base_uri": "https://localhost:8080/"
        },
        "id": "_xhtlsFib-hS",
        "outputId": "b6d4466d-19f5-4679-aa3e-cd08a48861ca"
      },
      "outputs": [
        {
          "data": {
            "text/plain": [
              "str"
            ]
          },
          "execution_count": 31,
          "metadata": {},
          "output_type": "execute_result"
        }
      ],
      "source": [
        "type(b)"
      ]
    },
    {
      "cell_type": "code",
      "execution_count": null,
      "metadata": {
        "colab": {
          "base_uri": "https://localhost:8080/"
        },
        "id": "Yx4jDOdbcBYH",
        "outputId": "5bb6acec-f384-45cc-a2ab-823e0db5a7ef"
      },
      "outputs": [
        {
          "name": "stdout",
          "output_type": "stream",
          "text": [
            "Enter passwordAdmin\n",
            "Sorry, Password is not correct\n",
            "your passcode is correct\n"
          ]
        }
      ],
      "source": [
        "passcode =\"\"\n",
        "while passcode != \"Admin\":\n",
        "    passcode = input(\"Enter password\")\n",
        "    print(\"Sorry, Password is not correct\")\n",
        "else:  \n",
        "    print(\"your passcode is correct\")"
      ]
    },
    {
      "cell_type": "code",
      "execution_count": null,
      "metadata": {
        "id": "FVbWROB2eqbE"
      },
      "outputs": [],
      "source": [
        "fl = open(\"myfile.txt\",'w')\n",
        "fl.write(\" Hi, are you all fine\")\n",
        "fl.write(\"\\n I am good what are you doing?\")\n",
        "fl.write(\"\\n I love programing\")\n",
        "fl.close()"
      ]
    },
    {
      "cell_type": "code",
      "execution_count": null,
      "metadata": {
        "colab": {
          "base_uri": "https://localhost:8080/"
        },
        "id": "-5mXCh6vjvhJ",
        "outputId": "96846794-6c31-47e5-f0ec-aed4e2f4e317"
      },
      "outputs": [
        {
          "output_type": "stream",
          "name": "stdout",
          "text": [
            " Hi, are you all fine\n",
            " I am good what are you doing?\n",
            " I love programing\n"
          ]
        }
      ],
      "source": [
        "f2 = open(\"myfile.txt\",'r')\n",
        "print(f2.read())\n",
        "f2.close()"
      ]
    },
    {
      "cell_type": "code",
      "execution_count": null,
      "metadata": {
        "id": "zKYyX5zCkuuh"
      },
      "outputs": [],
      "source": [
        "f3 = open(\"myfile.txt\",'a')\n",
        "f3.write(\"\\n this new line will be here now with you all\")\n",
        "f3.close()"
      ]
    },
    {
      "cell_type": "code",
      "source": [
        "f4 = open(\"myfile.txt\",'r')\n",
        "print(f4.read())"
      ],
      "metadata": {
        "colab": {
          "base_uri": "https://localhost:8080/"
        },
        "id": "Ciq_hi5RmkeR",
        "outputId": "1100baa1-181c-40fa-c40b-84aeb1d8b991"
      },
      "execution_count": null,
      "outputs": [
        {
          "output_type": "stream",
          "name": "stdout",
          "text": [
            " Hi, are you all fine\n",
            " I am good what are you doing?\n",
            " I love programingthis new line will be here now with you all\n",
            " this new line will be here now with you all\n"
          ]
        }
      ]
    },
    {
      "cell_type": "code",
      "source": [
        "for x in range(1,200):\n",
        "  print(x)"
      ],
      "metadata": {
        "id": "suDC_RYMmvF6",
        "colab": {
          "base_uri": "https://localhost:8080/"
        },
        "outputId": "7731f2db-2fb2-4375-a636-655ad8e1d92f"
      },
      "execution_count": null,
      "outputs": [
        {
          "output_type": "stream",
          "name": "stdout",
          "text": [
            "1\n",
            "2\n",
            "3\n",
            "4\n",
            "5\n",
            "6\n",
            "7\n",
            "8\n",
            "9\n",
            "10\n",
            "11\n",
            "12\n",
            "13\n",
            "14\n",
            "15\n",
            "16\n",
            "17\n",
            "18\n",
            "19\n",
            "20\n",
            "21\n",
            "22\n",
            "23\n",
            "24\n",
            "25\n",
            "26\n",
            "27\n",
            "28\n",
            "29\n",
            "30\n",
            "31\n",
            "32\n",
            "33\n",
            "34\n",
            "35\n",
            "36\n",
            "37\n",
            "38\n",
            "39\n",
            "40\n",
            "41\n",
            "42\n",
            "43\n",
            "44\n",
            "45\n",
            "46\n",
            "47\n",
            "48\n",
            "49\n",
            "50\n",
            "51\n",
            "52\n",
            "53\n",
            "54\n",
            "55\n",
            "56\n",
            "57\n",
            "58\n",
            "59\n",
            "60\n",
            "61\n",
            "62\n",
            "63\n",
            "64\n",
            "65\n",
            "66\n",
            "67\n",
            "68\n",
            "69\n",
            "70\n",
            "71\n",
            "72\n",
            "73\n",
            "74\n",
            "75\n",
            "76\n",
            "77\n",
            "78\n",
            "79\n",
            "80\n",
            "81\n",
            "82\n",
            "83\n",
            "84\n",
            "85\n",
            "86\n",
            "87\n",
            "88\n",
            "89\n",
            "90\n",
            "91\n",
            "92\n",
            "93\n",
            "94\n",
            "95\n",
            "96\n",
            "97\n",
            "98\n",
            "99\n",
            "100\n",
            "101\n",
            "102\n",
            "103\n",
            "104\n",
            "105\n",
            "106\n",
            "107\n",
            "108\n",
            "109\n",
            "110\n",
            "111\n",
            "112\n",
            "113\n",
            "114\n",
            "115\n",
            "116\n",
            "117\n",
            "118\n",
            "119\n",
            "120\n",
            "121\n",
            "122\n",
            "123\n",
            "124\n",
            "125\n",
            "126\n",
            "127\n",
            "128\n",
            "129\n",
            "130\n",
            "131\n",
            "132\n",
            "133\n",
            "134\n",
            "135\n",
            "136\n",
            "137\n",
            "138\n",
            "139\n",
            "140\n",
            "141\n",
            "142\n",
            "143\n",
            "144\n",
            "145\n",
            "146\n",
            "147\n",
            "148\n",
            "149\n",
            "150\n",
            "151\n",
            "152\n",
            "153\n",
            "154\n",
            "155\n",
            "156\n",
            "157\n",
            "158\n",
            "159\n",
            "160\n",
            "161\n",
            "162\n",
            "163\n",
            "164\n",
            "165\n",
            "166\n",
            "167\n",
            "168\n",
            "169\n",
            "170\n",
            "171\n",
            "172\n",
            "173\n",
            "174\n",
            "175\n",
            "176\n",
            "177\n",
            "178\n",
            "179\n",
            "180\n",
            "181\n",
            "182\n",
            "183\n",
            "184\n",
            "185\n",
            "186\n",
            "187\n",
            "188\n",
            "189\n",
            "190\n",
            "191\n",
            "192\n",
            "193\n",
            "194\n",
            "195\n",
            "196\n",
            "197\n",
            "198\n",
            "199\n"
          ]
        }
      ]
    },
    {
      "cell_type": "code",
      "source": [
        "x = range(1042000,702648265)\n",
        "while x==0:\n",
        "  b=b/x\n",
        "  print(b)"
      ],
      "metadata": {
        "id": "FjmBwjQZ9MRt"
      },
      "execution_count": null,
      "outputs": []
    },
    {
      "cell_type": "code",
      "source": [
        "lst = [2,1,4,7,8,9]\n",
        "#lst.reverse()\n",
        "print(lst)"
      ],
      "metadata": {
        "colab": {
          "base_uri": "https://localhost:8080/"
        },
        "id": "029Bj9ZwABgk",
        "outputId": "3f0d0d63-70d9-4369-c54e-9c648e9addf3"
      },
      "execution_count": null,
      "outputs": [
        {
          "output_type": "stream",
          "name": "stdout",
          "text": [
            "[2, 1, 4, 7, 8, 9]\n"
          ]
        }
      ]
    },
    {
      "cell_type": "code",
      "source": [
        "dst = {\"vaibhav\":\"Male\",\"av\":\"Female\"}\n",
        "dst.clear()\n",
        "print(dst)"
      ],
      "metadata": {
        "colab": {
          "base_uri": "https://localhost:8080/"
        },
        "id": "NjDTDUbUMvy5",
        "outputId": "31cc818f-a2c7-47b0-9e3b-bb162a4d5f58"
      },
      "execution_count": null,
      "outputs": [
        {
          "output_type": "stream",
          "name": "stdout",
          "text": [
            "{}\n"
          ]
        }
      ]
    },
    {
      "cell_type": "code",
      "source": [
        "\n",
        "def greetigs(lst):\n",
        "  print(\"Hi\", lst)\n"
      ],
      "metadata": {
        "id": "zzNEKduvNN9P"
      },
      "execution_count": null,
      "outputs": []
    },
    {
      "cell_type": "code",
      "source": [
        "lst = [\"vaibhav\",\"rajo\",\"rushika\",\"ankit\",\"Aakash\"]\n",
        "for x in lst:\n",
        "  greetigs(x)"
      ],
      "metadata": {
        "colab": {
          "base_uri": "https://localhost:8080/"
        },
        "id": "3ezpPWPON7xj",
        "outputId": "cb2b4348-e620-4cf6-e973-77025fb1905f"
      },
      "execution_count": null,
      "outputs": [
        {
          "output_type": "stream",
          "name": "stdout",
          "text": [
            "Hi vaibhav\n",
            "Hi rajo\n",
            "Hi rushika\n",
            "Hi ankit\n",
            "Hi Aakash\n"
          ]
        }
      ]
    },
    {
      "cell_type": "code",
      "source": [
        "def calc(a,b,op):\n",
        "  if op ==\"sum\":\n",
        "    print(a+b)\n",
        "  elif op ==\"sub\":\n",
        "    print(a-b)\n",
        "  elif op ==\"mul\":\n",
        "    print(a*b)\n",
        "  else:\n",
        "    print(a/b)\n",
        "c = calc(4,5,\"div\")\n",
        "print(c)"
      ],
      "metadata": {
        "colab": {
          "base_uri": "https://localhost:8080/"
        },
        "id": "nyWsb6kJSDJU",
        "outputId": "5c7eb361-9640-4994-eb3b-faa6f9291d90"
      },
      "execution_count": null,
      "outputs": [
        {
          "output_type": "stream",
          "name": "stdout",
          "text": [
            "0.8\n",
            "None\n"
          ]
        }
      ]
    },
    {
      "cell_type": "code",
      "source": [
        "def calc_return(a,b,op):\n",
        "  '''\n",
        " \"hey guys we are using this function for calulating dif operations\"\n",
        "  '''\n",
        "  if op ==\"sum\":\n",
        "    return(a+b)\n",
        "  elif op ==\"sub\":\n",
        "    return(a-b)\n",
        "  elif op ==\"mul\":\n",
        "    return(a*b)\n",
        "  else:\n",
        "    return(a/b)\n",
        "c = calc_return(4,5,\"div\")\n",
        "print(c)"
      ],
      "metadata": {
        "colab": {
          "base_uri": "https://localhost:8080/"
        },
        "id": "1CYbzrNSVdsd",
        "outputId": "d183e7bf-1e16-45fa-8142-227175d463d7"
      },
      "execution_count": null,
      "outputs": [
        {
          "output_type": "stream",
          "name": "stdout",
          "text": [
            "0.8\n"
          ]
        }
      ]
    },
    {
      "cell_type": "code",
      "source": [
        "help(calc)"
      ],
      "metadata": {
        "colab": {
          "base_uri": "https://localhost:8080/"
        },
        "id": "i_bJCmyaWGR4",
        "outputId": "9784627b-8db6-4618-bd7a-ab57b283fdc9"
      },
      "execution_count": null,
      "outputs": [
        {
          "output_type": "stream",
          "name": "stdout",
          "text": [
            "Help on function calc in module __main__:\n",
            "\n",
            "calc(a, b, op)\n",
            "\n"
          ]
        }
      ]
    },
    {
      "cell_type": "code",
      "source": [
        "help(calc_return)"
      ],
      "metadata": {
        "colab": {
          "base_uri": "https://localhost:8080/"
        },
        "id": "S0QJqc2IXAQ4",
        "outputId": "d2d2ff41-276d-45db-8c4e-8082b9f790a8"
      },
      "execution_count": null,
      "outputs": [
        {
          "output_type": "stream",
          "name": "stdout",
          "text": [
            "Help on function calc_return in module __main__:\n",
            "\n",
            "calc_return(a, b, op)\n",
            "    \"hey guys we are using this function for calulating dif opertaions\"\n",
            "\n"
          ]
        }
      ]
    },
    {
      "cell_type": "code",
      "source": [
        "lst = [2,3,4,1,6,2,3,4]\n",
        "\n",
        "print(lst)\n",
        "\n",
        "tp = (2,3,4,1,6,2,3,4)\n",
        "print(tp.count(3))"
      ],
      "metadata": {
        "colab": {
          "base_uri": "https://localhost:8080/"
        },
        "id": "p3Eiz1mbXL7J",
        "outputId": "149950dd-fb62-4f42-94f2-625e3c53bec6"
      },
      "execution_count": null,
      "outputs": [
        {
          "output_type": "stream",
          "name": "stdout",
          "text": [
            "[2, 3, 4, 1, 6, 2, 3, 4]\n",
            "2\n"
          ]
        }
      ]
    },
    {
      "cell_type": "code",
      "source": [
        "def many(*person):\n",
        "  for x in person:\n",
        "    print(x*4)"
      ],
      "metadata": {
        "id": "AWs7sHtIZI5G"
      },
      "execution_count": null,
      "outputs": []
    },
    {
      "cell_type": "code",
      "source": [
        "many(2,4,6,7,8)"
      ],
      "metadata": {
        "colab": {
          "base_uri": "https://localhost:8080/"
        },
        "id": "FOv76cZiv3qN",
        "outputId": "7fc5ab7c-729a-4f1a-c367-adad914a3f0b"
      },
      "execution_count": null,
      "outputs": [
        {
          "output_type": "stream",
          "name": "stdout",
          "text": [
            "8\n",
            "16\n",
            "24\n",
            "28\n",
            "32\n"
          ]
        }
      ]
    },
    {
      "cell_type": "code",
      "source": [
        "many(2,7,8)"
      ],
      "metadata": {
        "colab": {
          "base_uri": "https://localhost:8080/"
        },
        "id": "vvIg-NvUv7b7",
        "outputId": "d3b660b8-5119-4e9e-b532-d8ee473c0f03"
      },
      "execution_count": null,
      "outputs": [
        {
          "output_type": "stream",
          "name": "stdout",
          "text": [
            "8\n",
            "28\n",
            "32\n"
          ]
        }
      ]
    },
    {
      "cell_type": "code",
      "source": [
        "def dicti23(**dt):\n",
        "    print(dt)\n",
        "\n",
        "\n",
        "dicti23(name=\"vaibhav\",age=28,mobno=8329874035)"
      ],
      "metadata": {
        "colab": {
          "base_uri": "https://localhost:8080/"
        },
        "id": "GY5jkzSCwY1L",
        "outputId": "620c0fdf-1502-4f5d-a2d9-b74fb7ad4ded"
      },
      "execution_count": null,
      "outputs": [
        {
          "output_type": "stream",
          "name": "stdout",
          "text": [
            "{'name': 'vaibhav', 'age': 28, 'mobno': 8329874035}\n"
          ]
        }
      ]
    },
    {
      "cell_type": "code",
      "source": [
        "lst = [1,2,3,4,5,6,7,8,9,10]\n"
      ],
      "metadata": {
        "id": "2KX1qZFT3R5X"
      },
      "execution_count": null,
      "outputs": []
    },
    {
      "cell_type": "code",
      "source": [
        "def only_even(lst):\n",
        "  if lst%2==0:\n",
        "    return True\n",
        "  else:\n",
        "    return False \n",
        " "
      ],
      "metadata": {
        "id": "knRj7fJnXHVs"
      },
      "execution_count": null,
      "outputs": []
    },
    {
      "cell_type": "code",
      "source": [
        "only_even(10)"
      ],
      "metadata": {
        "colab": {
          "base_uri": "https://localhost:8080/"
        },
        "id": "G_k5mD6uXHge",
        "outputId": "746081f0-a509-4d33-c1f9-e7bd74ce19aa"
      },
      "execution_count": null,
      "outputs": [
        {
          "output_type": "execute_result",
          "data": {
            "text/plain": [
              "True"
            ]
          },
          "metadata": {},
          "execution_count": 95
        }
      ]
    },
    {
      "cell_type": "code",
      "source": [
        "only_even_list = filter(only_even, lst)\n",
        "print(list(only_even_list))"
      ],
      "metadata": {
        "colab": {
          "base_uri": "https://localhost:8080/"
        },
        "id": "I_Uqnik6XHnm",
        "outputId": "26ab8a6d-39b3-4cfa-9604-711abd71cd79"
      },
      "execution_count": null,
      "outputs": [
        {
          "output_type": "stream",
          "name": "stdout",
          "text": [
            "[2, 4, 6, 8, 10]\n"
          ]
        }
      ]
    },
    {
      "cell_type": "code",
      "source": [
        "def multy(num):\n",
        "  return num * 4\n"
      ],
      "metadata": {
        "id": "1VkGC30waqKO"
      },
      "execution_count": null,
      "outputs": []
    },
    {
      "cell_type": "code",
      "source": [
        "lst = [2,4,6,8,1,2,3,4,5]"
      ],
      "metadata": {
        "id": "Jf9mAecjYiZH"
      },
      "execution_count": null,
      "outputs": []
    },
    {
      "cell_type": "code",
      "source": [
        "new_lst = []\n",
        "\n"
      ],
      "metadata": {
        "id": "euii_FjhaqOA"
      },
      "execution_count": null,
      "outputs": []
    },
    {
      "cell_type": "code",
      "source": [
        "new_lst=map(multy, lst)\n",
        "print(list(new_lst))\n"
      ],
      "metadata": {
        "colab": {
          "base_uri": "https://localhost:8080/"
        },
        "id": "fltbZqjPaqRo",
        "outputId": "fadde556-193b-4ab2-c5a4-6cb210fc274f"
      },
      "execution_count": null,
      "outputs": [
        {
          "output_type": "stream",
          "name": "stdout",
          "text": [
            "[8, 16, 24, 32, 4, 8, 12, 16, 20]\n"
          ]
        }
      ]
    },
    {
      "cell_type": "code",
      "source": [
        "multy5= lambda num:num * 4\n"
      ],
      "metadata": {
        "id": "079JSm1mcEf2"
      },
      "execution_count": null,
      "outputs": []
    },
    {
      "cell_type": "code",
      "source": [
        "multy5(10)"
      ],
      "metadata": {
        "colab": {
          "base_uri": "https://localhost:8080/"
        },
        "id": "fxsKQ0lddXND",
        "outputId": "3eb35242-76b0-423a-8379-db3fcc261e2d"
      },
      "execution_count": null,
      "outputs": [
        {
          "output_type": "execute_result",
          "data": {
            "text/plain": [
              "40"
            ]
          },
          "metadata": {},
          "execution_count": 114
        }
      ]
    },
    {
      "cell_type": "code",
      "source": [
        "multy(10)"
      ],
      "metadata": {
        "id": "Kg2ZE2VkdyPa",
        "outputId": "8a8d34bd-ccf4-4bba-ea78-4327ae54a66a",
        "colab": {
          "base_uri": "https://localhost:8080/"
        }
      },
      "execution_count": null,
      "outputs": [
        {
          "output_type": "execute_result",
          "data": {
            "text/plain": [
              "40"
            ]
          },
          "metadata": {},
          "execution_count": 115
        }
      ]
    },
    {
      "cell_type": "code",
      "source": [
        "! pip install xlrd3"
      ],
      "metadata": {
        "id": "y5F64kuld34V",
        "colab": {
          "base_uri": "https://localhost:8080/"
        },
        "outputId": "684d7445-aebd-440f-aef0-0e5047ffa706"
      },
      "execution_count": null,
      "outputs": [
        {
          "output_type": "stream",
          "name": "stdout",
          "text": [
            "Looking in indexes: https://pypi.org/simple, https://us-python.pkg.dev/colab-wheels/public/simple/\n",
            "Collecting xlrd3\n",
            "  Downloading xlrd3-1.1.0-py2.py3-none-any.whl (105 kB)\n",
            "\u001b[?25l\r\u001b[K     |███▏                            | 10 kB 18.8 MB/s eta 0:00:01\r\u001b[K     |██████▎                         | 20 kB 10.5 MB/s eta 0:00:01\r\u001b[K     |█████████▍                      | 30 kB 9.0 MB/s eta 0:00:01\r\u001b[K     |████████████▌                   | 40 kB 8.2 MB/s eta 0:00:01\r\u001b[K     |███████████████▋                | 51 kB 4.4 MB/s eta 0:00:01\r\u001b[K     |██████████████████▊             | 61 kB 5.2 MB/s eta 0:00:01\r\u001b[K     |█████████████████████▉          | 71 kB 5.2 MB/s eta 0:00:01\r\u001b[K     |█████████████████████████       | 81 kB 5.2 MB/s eta 0:00:01\r\u001b[K     |████████████████████████████    | 92 kB 5.8 MB/s eta 0:00:01\r\u001b[K     |███████████████████████████████▏| 102 kB 4.9 MB/s eta 0:00:01\r\u001b[K     |████████████████████████████████| 105 kB 4.9 MB/s \n",
            "\u001b[?25hInstalling collected packages: xlrd3\n",
            "Successfully installed xlrd3-1.1.0\n"
          ]
        }
      ]
    },
    {
      "cell_type": "code",
      "source": [
        "import xlrd3 as xlrd\n"
      ],
      "metadata": {
        "id": "DOn6xZx6qULw"
      },
      "execution_count": null,
      "outputs": []
    },
    {
      "cell_type": "code",
      "source": [
        ""
      ],
      "metadata": {
        "id": "vmE5GX1bqn3G"
      },
      "execution_count": null,
      "outputs": []
    }
  ],
  "metadata": {
    "colab": {
      "collapsed_sections": [],
      "name": "Python2.ipynb",
      "provenance": []
    },
    "kernelspec": {
      "display_name": "Python 3",
      "name": "python3"
    },
    "language_info": {
      "name": "python"
    }
  },
  "nbformat": 4,
  "nbformat_minor": 0
}